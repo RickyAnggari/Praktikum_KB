{
 "cells": [
  {
   "cell_type": "markdown",
   "metadata": {},
   "source": [
    "Nama : Ricky Anggari\n",
    "\n",
    "NIM : 2209106037\n",
    "\n",
    "Kelas : A2 2022"
   ]
  },
  {
   "cell_type": "markdown",
   "metadata": {},
   "source": [
    "Pertama tama kita import semua library yang kita butuhkan"
   ]
  },
  {
   "cell_type": "code",
   "execution_count": 37,
   "metadata": {},
   "outputs": [],
   "source": [
    "from sklearn.impute import SimpleImputer\n",
    "from sklearn.preprocessing import StandardScaler\n",
    "from sklearn.preprocessing import MinMaxScaler\n",
    "from sklearn.preprocessing import OrdinalEncoder\n",
    "from sklearn.preprocessing import OneHotEncoder\n",
    "from sklearn.model_selection import train_test_split\n",
    "import pandas as pd"
   ]
  },
  {
   "cell_type": "markdown",
   "metadata": {},
   "source": [
    "Kemudian lakukan read csv,lalu untuk test sizenya adalah 0.3 dikarenakan kita maunya 70:30 yang artinya ini 30%"
   ]
  },
  {
   "cell_type": "code",
   "execution_count": 38,
   "metadata": {},
   "outputs": [],
   "source": [
    "cuaca=pd.read_csv(\"Weather Data.csv\")\n",
    "x=cuaca.iloc[:,:-1]\n",
    "y=cuaca.iloc[:,-1]\n",
    "x_train,x_test,y_train,y_test=train_test_split(x,y,test_size=0.3)"
   ]
  },
  {
   "cell_type": "markdown",
   "metadata": {},
   "source": [
    "Lakukan .shape pada data yang telah di train dan di test"
   ]
  },
  {
   "cell_type": "code",
   "execution_count": 39,
   "metadata": {},
   "outputs": [
    {
     "name": "stdout",
     "output_type": "stream",
     "text": [
      "(6148, 7)\n",
      "(2636, 7)\n",
      "(6148,)\n",
      "(2636,)\n"
     ]
    }
   ],
   "source": [
    "print(x_train.shape)\n",
    "print(x_test.shape)\n",
    "print(y_train.shape)\n",
    "print(y_test.shape)"
   ]
  },
  {
   "cell_type": "markdown",
   "metadata": {},
   "source": [
    "kemudian,buat variabel untuk maxminscaler()\n",
    "lalu panggil semua kolom yang bersifat numerik kemudian fit_transform"
   ]
  },
  {
   "cell_type": "code",
   "execution_count": 40,
   "metadata": {},
   "outputs": [],
   "source": [
    "maxmin=MinMaxScaler()\n",
    "cuaca[[\"Temp_C\",\"Dew Point Temp_C\",\"Rel Hum_%\",\"Wind Speed_km/h\",\"Visibility_km\",\"Press_kPa\"]]=maxmin.fit_transform(cuaca[[\"Temp_C\",\"Dew Point Temp_C\",\"Rel Hum_%\",\"Wind Speed_km/h\",\"Visibility_km\",\"Press_kPa\"]])"
   ]
  },
  {
   "cell_type": "markdown",
   "metadata": {},
   "source": [
    "Jika ingin max,maka ,max()"
   ]
  },
  {
   "cell_type": "code",
   "execution_count": 41,
   "metadata": {},
   "outputs": [
    {
     "data": {
      "text/plain": [
       "1.0"
      ]
     },
     "execution_count": 41,
     "metadata": {},
     "output_type": "execute_result"
    }
   ],
   "source": [
    "cuaca[\"Temp_C\"].max()"
   ]
  },
  {
   "cell_type": "markdown",
   "metadata": {},
   "source": [
    "Jika ingin min,maka .min()"
   ]
  },
  {
   "cell_type": "code",
   "execution_count": 42,
   "metadata": {},
   "outputs": [
    {
     "data": {
      "text/plain": [
       "0.0"
      ]
     },
     "execution_count": 42,
     "metadata": {},
     "output_type": "execute_result"
    }
   ],
   "source": [
    "cuaca[\"Temp_C\"].min()"
   ]
  },
  {
   "cell_type": "markdown",
   "metadata": {},
   "source": [
    "Lalu untuk scaling ,kita gunakan standard scaler\n",
    "lakukan hal serupa dengan maxminscaller hanya saja ini gunakan StandardScaler()"
   ]
  },
  {
   "cell_type": "code",
   "execution_count": 43,
   "metadata": {},
   "outputs": [],
   "source": [
    "scaler=StandardScaler()\n",
    "cuaca[[\"Temp_C\",\"Dew Point Temp_C\",\"Rel Hum_%\",\"Wind Speed_km/h\",\"Visibility_km\",\"Press_kPa\"]]=scaler.fit_transform(cuaca[[\"Temp_C\",\"Dew Point Temp_C\",\"Rel Hum_%\",\"Wind Speed_km/h\",\"Visibility_km\",\"Press_kPa\"]])\n"
   ]
  },
  {
   "cell_type": "markdown",
   "metadata": {},
   "source": [
    "Kemudian saya buat copy()"
   ]
  },
  {
   "cell_type": "code",
   "execution_count": 44,
   "metadata": {},
   "outputs": [],
   "source": [
    "cuaca=cuaca.copy()"
   ]
  },
  {
   "cell_type": "code",
   "execution_count": 45,
   "metadata": {},
   "outputs": [],
   "source": [
    "cuaca = pd.concat([cuaca, cuaca])"
   ]
  },
  {
   "cell_type": "markdown",
   "metadata": {},
   "source": [
    "Kemudian cek apakah ada data duplikat,gunakan .duplicated().sum()"
   ]
  },
  {
   "cell_type": "code",
   "execution_count": 46,
   "metadata": {},
   "outputs": [
    {
     "data": {
      "text/plain": [
       "8784"
      ]
     },
     "execution_count": 46,
     "metadata": {},
     "output_type": "execute_result"
    }
   ],
   "source": [
    "cuaca.duplicated().sum()"
   ]
  },
  {
   "cell_type": "markdown",
   "metadata": {},
   "source": [
    "Karena ada,maka kita lakukan drop duplicates untuk menghilangkan semua data duplikatnya"
   ]
  },
  {
   "cell_type": "code",
   "execution_count": 47,
   "metadata": {},
   "outputs": [
    {
     "data": {
      "text/plain": [
       "0"
      ]
     },
     "execution_count": 47,
     "metadata": {},
     "output_type": "execute_result"
    }
   ],
   "source": [
    "cuaca.drop_duplicates(inplace=True)\n",
    "cuaca.duplicated().sum()"
   ]
  },
  {
   "cell_type": "markdown",
   "metadata": {},
   "source": [
    "Karena di data saya tidak terdapat nilai null,saya buat sendiri nilai nullnya ditemp_c\n",
    "Kemudian di cek data nullnya dengan menggunakan isnull().sum()"
   ]
  },
  {
   "cell_type": "code",
   "execution_count": 48,
   "metadata": {},
   "outputs": [
    {
     "name": "stderr",
     "output_type": "stream",
     "text": [
      "C:\\Users\\Nitro\\AppData\\Local\\Temp\\ipykernel_28720\\4202935022.py:1: SettingWithCopyWarning: \n",
      "A value is trying to be set on a copy of a slice from a DataFrame\n",
      "\n",
      "See the caveats in the documentation: https://pandas.pydata.org/pandas-docs/stable/user_guide/indexing.html#returning-a-view-versus-a-copy\n",
      "  cuaca[\"Temp_C\"].iloc[1] = None\n"
     ]
    },
    {
     "data": {
      "text/plain": [
       "Date/Time           0\n",
       "Temp_C              1\n",
       "Dew Point Temp_C    0\n",
       "Rel Hum_%           0\n",
       "Wind Speed_km/h     0\n",
       "Visibility_km       0\n",
       "Press_kPa           0\n",
       "Weather             0\n",
       "dtype: int64"
      ]
     },
     "execution_count": 48,
     "metadata": {},
     "output_type": "execute_result"
    }
   ],
   "source": [
    "cuaca[\"Temp_C\"].iloc[1] = None\n",
    "cuaca.isnull().sum()"
   ]
  },
  {
   "cell_type": "markdown",
   "metadata": {},
   "source": [
    "Saya gunakan sumpleimputer untuk mengganti nilai null dengan mean"
   ]
  },
  {
   "cell_type": "code",
   "execution_count": 49,
   "metadata": {},
   "outputs": [],
   "source": [
    "cuaca_mean = SimpleImputer(strategy=\"mean\")\n",
    "cuaca[[\"Temp_C\"]]=cuaca_mean.fit_transform(cuaca[[\"Temp_C\"]])"
   ]
  },
  {
   "cell_type": "code",
   "execution_count": 50,
   "metadata": {},
   "outputs": [
    {
     "data": {
      "text/plain": [
       "Date/Time           0\n",
       "Temp_C              0\n",
       "Dew Point Temp_C    0\n",
       "Rel Hum_%           0\n",
       "Wind Speed_km/h     0\n",
       "Visibility_km       0\n",
       "Press_kPa           0\n",
       "Weather             0\n",
       "dtype: int64"
      ]
     },
     "execution_count": 50,
     "metadata": {},
     "output_type": "execute_result"
    }
   ],
   "source": [
    "cuaca.isna().sum()"
   ]
  },
  {
   "cell_type": "markdown",
   "metadata": {},
   "source": [
    "Kemudian disini saya menggunakan astype agar mengubah Temp_C yang awalnya numerik menjadi object"
   ]
  },
  {
   "cell_type": "code",
   "execution_count": 51,
   "metadata": {},
   "outputs": [],
   "source": [
    "cuaca[\"Temp_C\"] = cuaca[\"Temp_C\"].astype(object)"
   ]
  },
  {
   "cell_type": "markdown",
   "metadata": {},
   "source": [
    "Kemudian untuk melihat apakah sudah berubah,lakukan dtypes"
   ]
  },
  {
   "cell_type": "code",
   "execution_count": 52,
   "metadata": {},
   "outputs": [
    {
     "data": {
      "text/plain": [
       "Date/Time            object\n",
       "Temp_C               object\n",
       "Dew Point Temp_C    float64\n",
       "Rel Hum_%           float64\n",
       "Wind Speed_km/h     float64\n",
       "Visibility_km       float64\n",
       "Press_kPa           float64\n",
       "Weather              object\n",
       "dtype: object"
      ]
     },
     "execution_count": 52,
     "metadata": {},
     "output_type": "execute_result"
    }
   ],
   "source": [
    "cuaca.dtypes"
   ]
  },
  {
   "cell_type": "markdown",
   "metadata": {},
   "source": [
    "Lalu disini saya menggunakan Onehotencorder pada kolom Weather dengan cara get_dummies lalu replace dengan 1 dan 0"
   ]
  },
  {
   "cell_type": "code",
   "execution_count": 53,
   "metadata": {},
   "outputs": [
    {
     "data": {
      "text/html": [
       "<div>\n",
       "<style scoped>\n",
       "    .dataframe tbody tr th:only-of-type {\n",
       "        vertical-align: middle;\n",
       "    }\n",
       "\n",
       "    .dataframe tbody tr th {\n",
       "        vertical-align: top;\n",
       "    }\n",
       "\n",
       "    .dataframe thead th {\n",
       "        text-align: right;\n",
       "    }\n",
       "</style>\n",
       "<table border=\"1\" class=\"dataframe\">\n",
       "  <thead>\n",
       "    <tr style=\"text-align: right;\">\n",
       "      <th></th>\n",
       "      <th>Weather_Clear</th>\n",
       "      <th>Weather_Cloudy</th>\n",
       "      <th>Weather_Drizzle</th>\n",
       "      <th>Weather_Drizzle,Fog</th>\n",
       "      <th>Weather_Drizzle,Ice Pellets,Fog</th>\n",
       "      <th>Weather_Drizzle,Snow</th>\n",
       "      <th>Weather_Drizzle,Snow,Fog</th>\n",
       "      <th>Weather_Fog</th>\n",
       "      <th>Weather_Freezing Drizzle</th>\n",
       "      <th>Weather_Freezing Drizzle,Fog</th>\n",
       "      <th>...</th>\n",
       "      <th>Weather_Snow,Fog</th>\n",
       "      <th>Weather_Snow,Haze</th>\n",
       "      <th>Weather_Snow,Ice Pellets</th>\n",
       "      <th>Weather_Thunderstorms</th>\n",
       "      <th>Weather_Thunderstorms,Heavy Rain Showers</th>\n",
       "      <th>Weather_Thunderstorms,Moderate Rain Showers,Fog</th>\n",
       "      <th>Weather_Thunderstorms,Rain</th>\n",
       "      <th>Weather_Thunderstorms,Rain Showers</th>\n",
       "      <th>Weather_Thunderstorms,Rain Showers,Fog</th>\n",
       "      <th>Weather_Thunderstorms,Rain,Fog</th>\n",
       "    </tr>\n",
       "  </thead>\n",
       "  <tbody>\n",
       "    <tr>\n",
       "      <th>0</th>\n",
       "      <td>0</td>\n",
       "      <td>0</td>\n",
       "      <td>0</td>\n",
       "      <td>0</td>\n",
       "      <td>0</td>\n",
       "      <td>0</td>\n",
       "      <td>0</td>\n",
       "      <td>1</td>\n",
       "      <td>0</td>\n",
       "      <td>0</td>\n",
       "      <td>...</td>\n",
       "      <td>0</td>\n",
       "      <td>0</td>\n",
       "      <td>0</td>\n",
       "      <td>0</td>\n",
       "      <td>0</td>\n",
       "      <td>0</td>\n",
       "      <td>0</td>\n",
       "      <td>0</td>\n",
       "      <td>0</td>\n",
       "      <td>0</td>\n",
       "    </tr>\n",
       "    <tr>\n",
       "      <th>1</th>\n",
       "      <td>0</td>\n",
       "      <td>0</td>\n",
       "      <td>0</td>\n",
       "      <td>0</td>\n",
       "      <td>0</td>\n",
       "      <td>0</td>\n",
       "      <td>0</td>\n",
       "      <td>1</td>\n",
       "      <td>0</td>\n",
       "      <td>0</td>\n",
       "      <td>...</td>\n",
       "      <td>0</td>\n",
       "      <td>0</td>\n",
       "      <td>0</td>\n",
       "      <td>0</td>\n",
       "      <td>0</td>\n",
       "      <td>0</td>\n",
       "      <td>0</td>\n",
       "      <td>0</td>\n",
       "      <td>0</td>\n",
       "      <td>0</td>\n",
       "    </tr>\n",
       "    <tr>\n",
       "      <th>2</th>\n",
       "      <td>0</td>\n",
       "      <td>0</td>\n",
       "      <td>0</td>\n",
       "      <td>0</td>\n",
       "      <td>0</td>\n",
       "      <td>0</td>\n",
       "      <td>0</td>\n",
       "      <td>0</td>\n",
       "      <td>0</td>\n",
       "      <td>1</td>\n",
       "      <td>...</td>\n",
       "      <td>0</td>\n",
       "      <td>0</td>\n",
       "      <td>0</td>\n",
       "      <td>0</td>\n",
       "      <td>0</td>\n",
       "      <td>0</td>\n",
       "      <td>0</td>\n",
       "      <td>0</td>\n",
       "      <td>0</td>\n",
       "      <td>0</td>\n",
       "    </tr>\n",
       "    <tr>\n",
       "      <th>3</th>\n",
       "      <td>0</td>\n",
       "      <td>0</td>\n",
       "      <td>0</td>\n",
       "      <td>0</td>\n",
       "      <td>0</td>\n",
       "      <td>0</td>\n",
       "      <td>0</td>\n",
       "      <td>0</td>\n",
       "      <td>0</td>\n",
       "      <td>1</td>\n",
       "      <td>...</td>\n",
       "      <td>0</td>\n",
       "      <td>0</td>\n",
       "      <td>0</td>\n",
       "      <td>0</td>\n",
       "      <td>0</td>\n",
       "      <td>0</td>\n",
       "      <td>0</td>\n",
       "      <td>0</td>\n",
       "      <td>0</td>\n",
       "      <td>0</td>\n",
       "    </tr>\n",
       "    <tr>\n",
       "      <th>4</th>\n",
       "      <td>0</td>\n",
       "      <td>0</td>\n",
       "      <td>0</td>\n",
       "      <td>0</td>\n",
       "      <td>0</td>\n",
       "      <td>0</td>\n",
       "      <td>0</td>\n",
       "      <td>1</td>\n",
       "      <td>0</td>\n",
       "      <td>0</td>\n",
       "      <td>...</td>\n",
       "      <td>0</td>\n",
       "      <td>0</td>\n",
       "      <td>0</td>\n",
       "      <td>0</td>\n",
       "      <td>0</td>\n",
       "      <td>0</td>\n",
       "      <td>0</td>\n",
       "      <td>0</td>\n",
       "      <td>0</td>\n",
       "      <td>0</td>\n",
       "    </tr>\n",
       "    <tr>\n",
       "      <th>...</th>\n",
       "      <td>...</td>\n",
       "      <td>...</td>\n",
       "      <td>...</td>\n",
       "      <td>...</td>\n",
       "      <td>...</td>\n",
       "      <td>...</td>\n",
       "      <td>...</td>\n",
       "      <td>...</td>\n",
       "      <td>...</td>\n",
       "      <td>...</td>\n",
       "      <td>...</td>\n",
       "      <td>...</td>\n",
       "      <td>...</td>\n",
       "      <td>...</td>\n",
       "      <td>...</td>\n",
       "      <td>...</td>\n",
       "      <td>...</td>\n",
       "      <td>...</td>\n",
       "      <td>...</td>\n",
       "      <td>...</td>\n",
       "      <td>...</td>\n",
       "    </tr>\n",
       "    <tr>\n",
       "      <th>8779</th>\n",
       "      <td>0</td>\n",
       "      <td>0</td>\n",
       "      <td>0</td>\n",
       "      <td>0</td>\n",
       "      <td>0</td>\n",
       "      <td>0</td>\n",
       "      <td>0</td>\n",
       "      <td>0</td>\n",
       "      <td>0</td>\n",
       "      <td>0</td>\n",
       "      <td>...</td>\n",
       "      <td>0</td>\n",
       "      <td>0</td>\n",
       "      <td>0</td>\n",
       "      <td>0</td>\n",
       "      <td>0</td>\n",
       "      <td>0</td>\n",
       "      <td>0</td>\n",
       "      <td>0</td>\n",
       "      <td>0</td>\n",
       "      <td>0</td>\n",
       "    </tr>\n",
       "    <tr>\n",
       "      <th>8780</th>\n",
       "      <td>0</td>\n",
       "      <td>0</td>\n",
       "      <td>0</td>\n",
       "      <td>0</td>\n",
       "      <td>0</td>\n",
       "      <td>0</td>\n",
       "      <td>0</td>\n",
       "      <td>0</td>\n",
       "      <td>0</td>\n",
       "      <td>0</td>\n",
       "      <td>...</td>\n",
       "      <td>0</td>\n",
       "      <td>0</td>\n",
       "      <td>0</td>\n",
       "      <td>0</td>\n",
       "      <td>0</td>\n",
       "      <td>0</td>\n",
       "      <td>0</td>\n",
       "      <td>0</td>\n",
       "      <td>0</td>\n",
       "      <td>0</td>\n",
       "    </tr>\n",
       "    <tr>\n",
       "      <th>8781</th>\n",
       "      <td>0</td>\n",
       "      <td>0</td>\n",
       "      <td>0</td>\n",
       "      <td>0</td>\n",
       "      <td>0</td>\n",
       "      <td>0</td>\n",
       "      <td>0</td>\n",
       "      <td>0</td>\n",
       "      <td>0</td>\n",
       "      <td>0</td>\n",
       "      <td>...</td>\n",
       "      <td>0</td>\n",
       "      <td>0</td>\n",
       "      <td>0</td>\n",
       "      <td>0</td>\n",
       "      <td>0</td>\n",
       "      <td>0</td>\n",
       "      <td>0</td>\n",
       "      <td>0</td>\n",
       "      <td>0</td>\n",
       "      <td>0</td>\n",
       "    </tr>\n",
       "    <tr>\n",
       "      <th>8782</th>\n",
       "      <td>0</td>\n",
       "      <td>0</td>\n",
       "      <td>0</td>\n",
       "      <td>0</td>\n",
       "      <td>0</td>\n",
       "      <td>0</td>\n",
       "      <td>0</td>\n",
       "      <td>0</td>\n",
       "      <td>0</td>\n",
       "      <td>0</td>\n",
       "      <td>...</td>\n",
       "      <td>0</td>\n",
       "      <td>0</td>\n",
       "      <td>0</td>\n",
       "      <td>0</td>\n",
       "      <td>0</td>\n",
       "      <td>0</td>\n",
       "      <td>0</td>\n",
       "      <td>0</td>\n",
       "      <td>0</td>\n",
       "      <td>0</td>\n",
       "    </tr>\n",
       "    <tr>\n",
       "      <th>8783</th>\n",
       "      <td>0</td>\n",
       "      <td>0</td>\n",
       "      <td>0</td>\n",
       "      <td>0</td>\n",
       "      <td>0</td>\n",
       "      <td>0</td>\n",
       "      <td>0</td>\n",
       "      <td>0</td>\n",
       "      <td>0</td>\n",
       "      <td>0</td>\n",
       "      <td>...</td>\n",
       "      <td>0</td>\n",
       "      <td>0</td>\n",
       "      <td>0</td>\n",
       "      <td>0</td>\n",
       "      <td>0</td>\n",
       "      <td>0</td>\n",
       "      <td>0</td>\n",
       "      <td>0</td>\n",
       "      <td>0</td>\n",
       "      <td>0</td>\n",
       "    </tr>\n",
       "  </tbody>\n",
       "</table>\n",
       "<p>8784 rows × 50 columns</p>\n",
       "</div>"
      ],
      "text/plain": [
       "      Weather_Clear  Weather_Cloudy  Weather_Drizzle  Weather_Drizzle,Fog  \\\n",
       "0                 0               0                0                    0   \n",
       "1                 0               0                0                    0   \n",
       "2                 0               0                0                    0   \n",
       "3                 0               0                0                    0   \n",
       "4                 0               0                0                    0   \n",
       "...             ...             ...              ...                  ...   \n",
       "8779              0               0                0                    0   \n",
       "8780              0               0                0                    0   \n",
       "8781              0               0                0                    0   \n",
       "8782              0               0                0                    0   \n",
       "8783              0               0                0                    0   \n",
       "\n",
       "      Weather_Drizzle,Ice Pellets,Fog  Weather_Drizzle,Snow  \\\n",
       "0                                   0                     0   \n",
       "1                                   0                     0   \n",
       "2                                   0                     0   \n",
       "3                                   0                     0   \n",
       "4                                   0                     0   \n",
       "...                               ...                   ...   \n",
       "8779                                0                     0   \n",
       "8780                                0                     0   \n",
       "8781                                0                     0   \n",
       "8782                                0                     0   \n",
       "8783                                0                     0   \n",
       "\n",
       "      Weather_Drizzle,Snow,Fog  Weather_Fog  Weather_Freezing Drizzle  \\\n",
       "0                            0            1                         0   \n",
       "1                            0            1                         0   \n",
       "2                            0            0                         0   \n",
       "3                            0            0                         0   \n",
       "4                            0            1                         0   \n",
       "...                        ...          ...                       ...   \n",
       "8779                         0            0                         0   \n",
       "8780                         0            0                         0   \n",
       "8781                         0            0                         0   \n",
       "8782                         0            0                         0   \n",
       "8783                         0            0                         0   \n",
       "\n",
       "      Weather_Freezing Drizzle,Fog  ...  Weather_Snow,Fog  Weather_Snow,Haze  \\\n",
       "0                                0  ...                 0                  0   \n",
       "1                                0  ...                 0                  0   \n",
       "2                                1  ...                 0                  0   \n",
       "3                                1  ...                 0                  0   \n",
       "4                                0  ...                 0                  0   \n",
       "...                            ...  ...               ...                ...   \n",
       "8779                             0  ...                 0                  0   \n",
       "8780                             0  ...                 0                  0   \n",
       "8781                             0  ...                 0                  0   \n",
       "8782                             0  ...                 0                  0   \n",
       "8783                             0  ...                 0                  0   \n",
       "\n",
       "      Weather_Snow,Ice Pellets  Weather_Thunderstorms  \\\n",
       "0                            0                      0   \n",
       "1                            0                      0   \n",
       "2                            0                      0   \n",
       "3                            0                      0   \n",
       "4                            0                      0   \n",
       "...                        ...                    ...   \n",
       "8779                         0                      0   \n",
       "8780                         0                      0   \n",
       "8781                         0                      0   \n",
       "8782                         0                      0   \n",
       "8783                         0                      0   \n",
       "\n",
       "      Weather_Thunderstorms,Heavy Rain Showers  \\\n",
       "0                                            0   \n",
       "1                                            0   \n",
       "2                                            0   \n",
       "3                                            0   \n",
       "4                                            0   \n",
       "...                                        ...   \n",
       "8779                                         0   \n",
       "8780                                         0   \n",
       "8781                                         0   \n",
       "8782                                         0   \n",
       "8783                                         0   \n",
       "\n",
       "      Weather_Thunderstorms,Moderate Rain Showers,Fog  \\\n",
       "0                                                   0   \n",
       "1                                                   0   \n",
       "2                                                   0   \n",
       "3                                                   0   \n",
       "4                                                   0   \n",
       "...                                               ...   \n",
       "8779                                                0   \n",
       "8780                                                0   \n",
       "8781                                                0   \n",
       "8782                                                0   \n",
       "8783                                                0   \n",
       "\n",
       "      Weather_Thunderstorms,Rain  Weather_Thunderstorms,Rain Showers  \\\n",
       "0                              0                                   0   \n",
       "1                              0                                   0   \n",
       "2                              0                                   0   \n",
       "3                              0                                   0   \n",
       "4                              0                                   0   \n",
       "...                          ...                                 ...   \n",
       "8779                           0                                   0   \n",
       "8780                           0                                   0   \n",
       "8781                           0                                   0   \n",
       "8782                           0                                   0   \n",
       "8783                           0                                   0   \n",
       "\n",
       "      Weather_Thunderstorms,Rain Showers,Fog  Weather_Thunderstorms,Rain,Fog  \n",
       "0                                          0                               0  \n",
       "1                                          0                               0  \n",
       "2                                          0                               0  \n",
       "3                                          0                               0  \n",
       "4                                          0                               0  \n",
       "...                                      ...                             ...  \n",
       "8779                                       0                               0  \n",
       "8780                                       0                               0  \n",
       "8781                                       0                               0  \n",
       "8782                                       0                               0  \n",
       "8783                                       0                               0  \n",
       "\n",
       "[8784 rows x 50 columns]"
      ]
     },
     "execution_count": 53,
     "metadata": {},
     "output_type": "execute_result"
    }
   ],
   "source": [
    "cuaca1 = pd.get_dummies(cuaca[[\"Weather\"]]).replace(False, 0).replace(True, 1)\n",
    "cuaca1"
   ]
  }
 ],
 "metadata": {
  "kernelspec": {
   "display_name": "Python 3",
   "language": "python",
   "name": "python3"
  },
  "language_info": {
   "codemirror_mode": {
    "name": "ipython",
    "version": 3
   },
   "file_extension": ".py",
   "mimetype": "text/x-python",
   "name": "python",
   "nbconvert_exporter": "python",
   "pygments_lexer": "ipython3",
   "version": "3.10.7"
  }
 },
 "nbformat": 4,
 "nbformat_minor": 2
}
