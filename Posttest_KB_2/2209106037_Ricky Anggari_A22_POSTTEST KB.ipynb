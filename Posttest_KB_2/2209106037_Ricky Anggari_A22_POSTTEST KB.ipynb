{
 "cells": [
  {
   "cell_type": "code",
   "execution_count": 1,
   "metadata": {},
   "outputs": [
    {
     "name": "stdout",
     "output_type": "stream",
     "text": [
      "            Temp_C  Dew Point Temp_C    Rel Hum_%  Wind Speed_km/h  \\\n",
      "count  8784.000000       8784.000000  8784.000000      8784.000000   \n",
      "mean      8.798144          2.555294    67.431694        14.945469   \n",
      "std      11.687883         10.883072    16.918881         8.688696   \n",
      "min     -23.300000        -28.500000    18.000000         0.000000   \n",
      "25%       0.100000         -5.900000    56.000000         9.000000   \n",
      "50%       9.300000          3.300000    68.000000        13.000000   \n",
      "75%      18.800000         11.800000    81.000000        20.000000   \n",
      "max      33.000000         24.400000   100.000000        83.000000   \n",
      "\n",
      "       Visibility_km    Press_kPa  \n",
      "count    8784.000000  8784.000000  \n",
      "mean       27.664447   101.051623  \n",
      "std        12.622688     0.844005  \n",
      "min         0.200000    97.520000  \n",
      "25%        24.100000   100.560000  \n",
      "50%        25.000000   101.070000  \n",
      "75%        25.000000   101.590000  \n",
      "max        48.300000   103.650000  \n"
     ]
    }
   ],
   "source": [
    "import pandas as pd\n",
    "from prettytable import PrettyTable\n",
    "# Membaca data dari file CSV\n",
    "data_cuaca = pd.read_csv(\"Weather Data.csv\")\n",
    "\n",
    "# Menampilkan statistik d\n",
    "statistics = data_cuaca.describe()\n",
    "\n",
    "# Menampilkan hasil\n",
    "print(statistics)"
   ]
  },
  {
   "cell_type": "markdown",
   "metadata": {},
   "source": [
    "Import pandas dan prettytable nya dulu,lalu varianel=pd.read_csv(\"ini nama csv anda\")\n",
    "kemudian beri variabel baru untuk menggunakan describe yang berfungsi untuk perhitungan dari data numeriknya"
   ]
  },
  {
   "cell_type": "code",
   "execution_count": 2,
   "metadata": {},
   "outputs": [
    {
     "name": "stdout",
     "output_type": "stream",
     "text": [
      "   Temp_C  Dew Point Temp_C  Rel Hum_%  Wind Speed_km/h  Visibility_km  \\\n",
      "0    -1.8              -3.9         86                4            8.0   \n",
      "1    -1.8              -3.7         87                4            8.0   \n",
      "2    -1.8              -3.4         89                7            4.0   \n",
      "3    -1.5              -3.2         88                6            4.0   \n",
      "4    -1.5              -3.3         88                7            4.8   \n",
      "5    -1.4              -3.3         87                9            6.4   \n",
      "6    -1.5              -3.1         89                7            6.4   \n",
      "7    -1.4              -3.6         85                7            8.0   \n",
      "8    -1.4              -3.6         85                9            8.0   \n",
      "9    -1.3              -3.1         88               15            4.0   \n",
      "\n",
      "   Press_kPa  \n",
      "0     101.24  \n",
      "1     101.24  \n",
      "2     101.26  \n",
      "3     101.27  \n",
      "4     101.23  \n",
      "5     101.27  \n",
      "6     101.29  \n",
      "7     101.26  \n",
      "8     101.23  \n",
      "9     101.20  \n"
     ]
    }
   ],
   "source": [
    "# Memilih kolom-kolom dengan tipe data angka (numerik)\n",
    "numeric_columns = data_cuaca.select_dtypes(include=['int', 'float'])\n",
    "\n",
    "# Menampilkan 10 record pertama dari kolom-kolom numerik\n",
    "sepuluh = numeric_columns.head(10)\n",
    "\n",
    "print(sepuluh)"
   ]
  },
  {
   "cell_type": "markdown",
   "metadata": {},
   "source": [
    "Disini kita diminta untuk menampilkan kolom yang berupa angka/integer,hanya 10 pertama saja\n",
    "saya menggunakan .select_dtypes(include=[\"int\",\"float\"]) untuk memanggil data types yang berupa integer atau float\n",
    "kemudian beri variable baru untuk memanggil"
   ]
  },
  {
   "cell_type": "code",
   "execution_count": 3,
   "metadata": {},
   "outputs": [
    {
     "name": "stdout",
     "output_type": "stream",
     "text": [
      "+------------------------+----------------------------------------------------------------------------------------------------+\n",
      "|       Informasi        |                                               Nilai                                                |\n",
      "+------------------------+----------------------------------------------------------------------------------------------------+\n",
      "|     Jumlah Record      |                                                8784                                                |\n",
      "|     Jumlah Atribut     |                                                 8                                                  |\n",
      "|      Nama Atribut      | Date/Time, Temp_C, Dew Point Temp_C, Rel Hum_%, Wind Speed_km/h, Visibility_km, Press_kPa, Weather |\n",
      "| Jumlah Atribut Numerik |                                                 6                                                  |\n",
      "|    Atribut Numerik     |           Temp_C, Dew Point Temp_C, Rel Hum_%, Wind Speed_km/h, Visibility_km, Press_kPa           |\n",
      "+------------------------+----------------------------------------------------------------------------------------------------+\n"
     ]
    }
   ],
   "source": [
    "# Menghitung jumlah record\n",
    "jumlah_record = len(data_cuaca)\n",
    "\n",
    "# Menghitung jumlah atribut\n",
    "jumlah_atribut = len(data_cuaca.columns)\n",
    "\n",
    "# Mendapatkan nama atribut\n",
    "nama_atribut = data_cuaca.columns.tolist()\n",
    "\n",
    "# Mendapatkan jumlah atribut dengan tipe angka (numerik)\n",
    "atribut_numerik = data_cuaca.select_dtypes(include=['int', 'float']).columns.tolist()\n",
    "jumlah_atribut_numerik = len(atribut_numerik)\n",
    "\n",
    "# Membuat tabel untuk menampilkan informasi dataset\n",
    "table = PrettyTable()\n",
    "table.field_names = [\"Informasi\", \"Nilai\"]\n",
    "table.add_row([\"Jumlah Record\", jumlah_record])\n",
    "table.add_row([\"Jumlah Atribut\", jumlah_atribut])\n",
    "table.add_row([\"Nama Atribut\", ', '.join(nama_atribut)])\n",
    "table.add_row([\"Jumlah Atribut Numerik\", jumlah_atribut_numerik])\n",
    "table.add_row([\"Atribut Numerik\", ', '.join(atribut_numerik)])\n",
    "\n",
    "# Menampilkan tabel dengan informasi dataset\n",
    "print(table)"
   ]
  },
  {
   "cell_type": "markdown",
   "metadata": {},
   "source": [
    "Disini kita gunakan len()untuk menghitung jumlah/panjang baris dan kolom nya\n",
    "Lalu gunakan .columns untuk kolom\n",
    ".tolist() untuk mengubah satu kolom atau seluruh DataFrame menjadi daftar Python sesuai kebutuhan Anda dalam pemrosesan data.\n",
    "select.dtypes untuk memilih jenis tipe datanya\n",
    "PrettyTable digunakan agar membuat tabel supaya terlihat rapi\n",
    "add row agar menambah baris pada tablenya\n"
   ]
  },
  {
   "cell_type": "code",
   "execution_count": 4,
   "metadata": {},
   "outputs": [
    {
     "name": "stdout",
     "output_type": "stream",
     "text": [
      "      Rel Hum_%  Wind Speed_km/h  Visibility_km  Press_kPa        Weather\n",
      "37           57               37           24.1      99.27  Mostly Cloudy\n",
      "38           56               33           24.1      99.33  Mostly Cloudy\n",
      "39           59               33           24.1      99.41  Mostly Cloudy\n",
      "40           55               24           24.1      99.50  Mostly Cloudy\n",
      "41           57               22           25.0      99.66   Snow Showers\n",
      "...         ...              ...            ...        ...            ...\n",
      "8779         81               30            9.7     100.13           Snow\n",
      "8780         83               24            9.7     100.03           Snow\n",
      "8781         93               28            4.8      99.95           Snow\n",
      "8782         89               28            9.7      99.91           Snow\n",
      "8783         86               30           11.3      99.89           Snow\n",
      "\n",
      "[8747 rows x 5 columns]\n"
     ]
    }
   ],
   "source": [
    "# Menampilkan baris dengan 3 digit NIM terakhir hingga data terakhir dan kolom ke-4 hingga kolom terakhir menggunakan .loc\n",
    "baris_slice = data_cuaca.loc[37:,\"Rel Hum_%\":]\n",
    "\n",
    "# Menampilkan baris dengan 3 digit NIM terakhir hingga data terakhir dan kolom ke-4 hingga kolom terakhir menggunakan .iloc\n",
    "baris_slice = data_cuaca.iloc[37:,3:]\n",
    "\n",
    "# Menampilkan hasil slice\n",
    "print(baris_slice)"
   ]
  },
  {
   "cell_type": "markdown",
   "metadata": {},
   "source": [
    "Disini saya menggunakan loc dan iloc untuk mendapatkan baris dan kolom sesuai yang diminta,menggunakan loc[NIM:]agar mengambil dari nim hingga seterusnya\n",
    "lalu rel_hum% karena nama kolom itu berada di index ke 3 dimulai dari 0 alias index ke 4.\n",
    "sedangkan iloc bisa langsung memasukkan NIM kedalamnya"
   ]
  },
  {
   "cell_type": "code",
   "execution_count": 5,
   "metadata": {},
   "outputs": [
    {
     "name": "stdout",
     "output_type": "stream",
     "text": [
      "Date/Time: 8784 label\n",
      "Weather: 50 label\n"
     ]
    }
   ],
   "source": [
    "kolom_objek = data_cuaca.select_dtypes(include=['object'])\n",
    "\n",
    "# Menghitung jumlah label unik untuk setiap kolom objek\n",
    "jumlah_label = {}\n",
    "for kolom in kolom_objek.columns:\n",
    "    jumlah_label[kolom] = len(data_cuaca[kolom].unique())\n",
    "\n",
    "# Menampilkan jumlah label unik\n",
    "for kolom, jumlah in jumlah_label.items():\n",
    "    print(f\"{kolom}: {jumlah} label\")\n",
    "\n",
    "# Jika Anda ingin menampilkan total jumlah label unik dari semua kolom objek\n",
    "total_jumlah_label = sum(jumlah_label.values())\n",
    " "
   ]
  },
  {
   "cell_type": "markdown",
   "metadata": {},
   "source": [
    "kolom_objek = data_cuaca.select_dtypes(include=['object']):\n",
    "\n",
    "Baris ini menghasilkan variabel kolom_objek yang berisi semua kolom dalam data_cuaca yang memiliki tipe data objek (string atau data kategori).\n",
    "Fungsi select_dtypes() digunakan untuk memilih kolom dengan tipe data tertentu, dalam hal ini, 'object' yang mengindikasikan tipe data objek.\n",
    "Menghitung Jumlah Label Unik untuk Setiap Kolom Objek:\n",
    "\n",
    "kemudian saya menghitung jumlah label unik dalam setiap kolom objek. Ini berarti menghitung berapa banyak nilai berbeda yang muncul dalam setiap kolom objek.\n",
    "saya menggunakan perulangan for untuk iterasi melalui setiap kolom dalam kolom_objek dan menghitung jumlah nilai unik dengan mengambil panjang array yang dihasilkan oleh unique(). Hasilnya disimpan dalam dictionary jumlah_label dengan nama kolom sebagai kunci (key) dan jumlah label unik sebagai nilai (value).\n",
    "Menampilkan Jumlah Label Unik:\n",
    "\n",
    "Setelah menghitung jumlah label unik untuk semua kolom objek, saya menggunakan perulangan for lagi untuk mencetak hasilnya. "
   ]
  }
 ],
 "metadata": {
  "kernelspec": {
   "display_name": "Python 3",
   "language": "python",
   "name": "python3"
  },
  "language_info": {
   "codemirror_mode": {
    "name": "ipython",
    "version": 3
   },
   "file_extension": ".py",
   "mimetype": "text/x-python",
   "name": "python",
   "nbconvert_exporter": "python",
   "pygments_lexer": "ipython3",
   "version": "3.10.7"
  },
  "orig_nbformat": 4
 },
 "nbformat": 4,
 "nbformat_minor": 2
}
